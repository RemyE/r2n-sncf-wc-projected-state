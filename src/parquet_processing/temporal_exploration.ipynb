{
 "cells": [
  {
   "cell_type": "code",
   "execution_count": null,
   "metadata": {},
   "outputs": [],
   "source": [
    "#Import des bibliothèques utilisées pour le traitement des données\n",
    "import pandas as pd\n",
    "import pickle\n",
    "from matplotlib import pyplot as plt\n",
    "import seaborn as sns\n",
    "from collections import Counter\n",
    "import math\n",
    "import pickle"
   ]
  },
  {
   "cell_type": "code",
   "execution_count": null,
   "metadata": {},
   "outputs": [],
   "source": [
    "#Option d'affichage pour les dataframes\n",
    "pd.options.display.max_rows = 999\n",
    "pd.options.display.max_columns = None"
   ]
  },
  {
   "attachments": {},
   "cell_type": "markdown",
   "metadata": {},
   "source": [
    "## Décodage des codes mission"
   ]
  },
  {
   "cell_type": "code",
   "execution_count": null,
   "metadata": {},
   "outputs": [],
   "source": [
    "#Fonction permettant de décoder les codes mission\n",
    "'''def decode_mission(m_num):\n",
    "    m=str(m_num)\n",
    "    return chr(int(m[0:2]))+chr(int(m[2:4]))+chr(int(m[4:6]))+chr(int(m[6:8]))+chr(int(m[8:10]))+chr(int(m[10:12]))+chr(int(m[12:14]))+chr(int(m[14:16]))'''\n"
   ]
  },
  {
   "attachments": {},
   "cell_type": "markdown",
   "metadata": {},
   "source": [
    "## Chargement des données depuis les pickles"
   ]
  },
  {
   "cell_type": "code",
   "execution_count": null,
   "metadata": {},
   "outputs": [],
   "source": [
    "#Chargement du dictionnaire de df des rames en pickle\n",
    "#Dictionnaire avec clé = rame, valeur : toutes les données à la suite\n",
    "'''with open('dict_df.pkl', 'rb') as file:\n",
    "    dict_rames = pickle.load(file)'''"
   ]
  },
  {
   "cell_type": "code",
   "execution_count": null,
   "metadata": {},
   "outputs": [],
   "source": [
    "#Chargement du dictionnaire des missions en fonction des rames dans un pickle\n",
    "#Dicco clé = rame valeur = dictionnaire dont la clé est la mission, et les valeurs les données\n",
    "with open('df_complet.pkl', 'rb') as file:      \n",
    "    df = pickle.load(file)"
   ]
  },
  {
   "attachments": {},
   "cell_type": "markdown",
   "metadata": {},
   "source": [
    "## Groupement des données pour les différentes études"
   ]
  },
  {
   "cell_type": "code",
   "execution_count": null,
   "metadata": {},
   "outputs": [],
   "source": [
    "#Nombre de jours de données disponible par rame\n",
    "df_jour_par_mission = df.groupby('unknown_IMISSIONTRAINNUMBER').jour.nunique().reset_index()"
   ]
  },
  {
   "cell_type": "code",
   "execution_count": null,
   "metadata": {},
   "outputs": [],
   "source": [
    "#Nombre de jours de données disponible par rame\n",
    "df_jours_par_rame = df.groupby('rame').jour.nunique().reset_index()"
   ]
  },
  {
   "attachments": {},
   "cell_type": "markdown",
   "metadata": {},
   "source": [
    "Eau claire"
   ]
  },
  {
   "cell_type": "code",
   "execution_count": null,
   "metadata": {},
   "outputs": [],
   "source": [
    "#Calcul de la consommation d'eau claire de chaque mission par rame\n",
    "df['conso_FWT_mission'] = (df.groupby(['unknown_IMISSIONTRAINNUMBER', 'jour', 'rame', 'cpt_mission']).conso_FWT_rame.transform('max')-\n",
    "df.groupby(['unknown_IMISSIONTRAINNUMBER', 'jour', 'rame', 'cpt_mission']).conso_FWT_rame.transform('min'))"
   ]
  },
  {
   "cell_type": "code",
   "execution_count": null,
   "metadata": {},
   "outputs": [],
   "source": [
    "#Création d'un df avec min, max, moy et med pour chaque mission des rames\n",
    "df_traite_FWT = df.groupby(['unknown_IMISSIONTRAINNUMBER', 'jour']).conso_FWT_mission.agg(['min','max','mean','median']).reset_index()"
   ]
  },
  {
   "cell_type": "code",
   "execution_count": null,
   "metadata": {},
   "outputs": [],
   "source": [
    "#Repérage du dernier remplissage du reservoir d'eau claire\n",
    "df_date_FWT = df.loc[df.WC_CAR01_LCST_remplissage_FWT == 1,['rame','jour']].sort_values(['rame','jour'])\n",
    "df_date_FWT['date_ant_remp_FWT']=df_date_FWT.groupby(['rame']).jour.shift(1)\n",
    "df_date_FWT['delta_remp_FWT']=df_date_FWT.jour - df_date_FWT.date_ant_remp_FWT"
   ]
  },
  {
   "cell_type": "code",
   "execution_count": null,
   "metadata": {},
   "outputs": [],
   "source": [
    "#Visualisation des temps entre chaque remplissage d'eau claire et les dates de remplissage\n",
    "df_date_FWT"
   ]
  },
  {
   "attachments": {},
   "cell_type": "markdown",
   "metadata": {},
   "source": [
    "Eaux usées"
   ]
  },
  {
   "cell_type": "code",
   "execution_count": null,
   "metadata": {},
   "outputs": [],
   "source": [
    "#Calcul du remplissage d'eaux usees de chaque mission par rame\n",
    "df['rempl_WWT_mission'] = (df.groupby(['unknown_IMISSIONTRAINNUMBER', 'jour', 'rame', 'cpt_mission']).rempl_WWT_rame.transform('max')-\n",
    "df.groupby(['unknown_IMISSIONTRAINNUMBER', 'jour', 'rame', 'cpt_mission']).rempl_WWT_rame.transform('min'))"
   ]
  },
  {
   "cell_type": "code",
   "execution_count": null,
   "metadata": {},
   "outputs": [],
   "source": [
    "#Création d'un df avec min, max, moy et med pour chaque mission des rames\n",
    "df_traite_WWT = df.groupby(['unknown_IMISSIONTRAINNUMBER', 'jour']).rempl_WWT_mission.agg(['min','max','mean','median']).reset_index()"
   ]
  },
  {
   "cell_type": "code",
   "execution_count": null,
   "metadata": {},
   "outputs": [],
   "source": [
    "#Repérage de la dernière vidange du reservoir d'eaux usées\n",
    "df_date_WWT = df.loc[df.WC_CAR01_LCST_vidange_WWT == 1,['rame','jour']].sort_values(['rame','jour'])\n",
    "df_date_WWT['date_ant_vid_WWT']=df_date_WWT.groupby(['rame']).jour.shift(1)\n",
    "df_date_WWT['delta_vid_WWT']=df_date_WWT.jour - df_date_WWT.date_ant_vid_WWT"
   ]
  },
  {
   "cell_type": "code",
   "execution_count": null,
   "metadata": {},
   "outputs": [],
   "source": [
    "#Visualisation des dernières vidanges du réservoir d'eaux usées\n",
    "df_date_WWT"
   ]
  },
  {
   "attachments": {},
   "cell_type": "markdown",
   "metadata": {},
   "source": [
    "## Graphiques"
   ]
  },
  {
   "cell_type": "code",
   "execution_count": null,
   "metadata": {},
   "outputs": [],
   "source": [
    "#Nombre de jours de données par rame\n",
    "plt.bar(df_jours_par_rame['rame'], df_jours_par_rame['jour'])\n",
    "plt.xticks(rotation = 'vertical')\n",
    "plt.ylabel('nb de jours')"
   ]
  },
  {
   "attachments": {},
   "cell_type": "markdown",
   "metadata": {},
   "source": [
    "Eau claire"
   ]
  },
  {
   "cell_type": "code",
   "execution_count": null,
   "metadata": {},
   "outputs": [],
   "source": [
    "#Consommation cumulative d'eau claire pour chaque rame, toutes missions confondues\n",
    "df.plot.hist(column = ['conso_FWT_mission'], cumulative=True, by = 'rame', bins = 25, figsize=(15, 50), density = True)\n",
    "plt.show()"
   ]
  },
  {
   "cell_type": "code",
   "execution_count": null,
   "metadata": {},
   "outputs": [],
   "source": [
    "#Distribution de la consommation d'eau claire\n",
    "sns.set(rc={'figure.figsize':(15,8.27)})\n",
    "plt.xticks(rotation = 'vertical')\n",
    "sns.boxplot(data=df, x='unknown_IMISSIONTRAINNUMBER', y ='conso_FWT_mission')"
   ]
  },
  {
   "attachments": {},
   "cell_type": "markdown",
   "metadata": {},
   "source": [
    "Eaux usées"
   ]
  },
  {
   "cell_type": "code",
   "execution_count": null,
   "metadata": {},
   "outputs": [],
   "source": [
    "#Remplissage cumulatif des eaux usées pour chaque rame, toutes missions confondues\n",
    "df.plot.hist(column = ['rempl_WWT_mission'], cumulative=True, by = 'rame', bins = 25, figsize=(15, 50), density = True)\n",
    "plt.show()"
   ]
  },
  {
   "cell_type": "code",
   "execution_count": null,
   "metadata": {},
   "outputs": [],
   "source": [
    "#Distribution du remplissage des eaux usées\n",
    "sns.set(rc={'figure.figsize':(15,8.27)})\n",
    "plt.xticks(rotation = 'vertical')\n",
    "sns.boxplot(data=df, x='unknown_IMISSIONTRAINNUMBER', y ='rempl_WWT_mission')"
   ]
  },
  {
   "attachments": {},
   "cell_type": "markdown",
   "metadata": {},
   "source": [
    "## Sauvegarde (pour transmission à l'interface graphique)"
   ]
  },
  {
   "cell_type": "code",
   "execution_count": null,
   "metadata": {},
   "outputs": [],
   "source": [
    "#Colonnes renommées pour correspondre aux noms dans l'interface graphique\n",
    "df_traite_FWT = df_traite_FWT.rename(columns = {'min': 'clearMin', 'mean': 'clearMoy', 'max': 'clearMax', 'median': 'clearMed'})\n",
    "df_traite_WWT = df_traite_WWT.rename(columns = {'min': 'dirtyMin', 'mean': 'dirtyMoy', 'max': 'dirtyMax', 'median': 'dirtyMed'})"
   ]
  },
  {
   "cell_type": "code",
   "execution_count": null,
   "metadata": {},
   "outputs": [],
   "source": [
    "#Sauvegarde du df des rames pour l'eau claire en pickle\n",
    "with open('df_traite_FWT_novembre.pkl', 'wb') as file:      \n",
    "    pickle.dump(df_traite_FWT, file)"
   ]
  },
  {
   "cell_type": "code",
   "execution_count": null,
   "metadata": {},
   "outputs": [],
   "source": [
    "#Sauvegarde du df des rames pour les eaux usées en pickle\n",
    "with open('df_traite_WWT_novembre.pkl', 'wb') as file:      \n",
    "    pickle.dump(df_traite_WWT, file)"
   ]
  }
 ],
 "metadata": {
  "kernelspec": {
   "display_name": "base",
   "language": "python",
   "name": "python3"
  },
  "language_info": {
   "codemirror_mode": {
    "name": "ipython",
    "version": 3
   },
   "file_extension": ".py",
   "mimetype": "text/x-python",
   "name": "python",
   "nbconvert_exporter": "python",
   "pygments_lexer": "ipython3",
   "version": "3.9.12"
  },
  "orig_nbformat": 4,
  "vscode": {
   "interpreter": {
    "hash": "02501473eb041a161c61fd3ca20e3fda48ac334b31f985a5bd6bd7f891fd4d4d"
   }
  }
 },
 "nbformat": 4,
 "nbformat_minor": 2
}
