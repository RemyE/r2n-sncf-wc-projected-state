{
 "cells": [
  {
   "cell_type": "code",
   "execution_count": null,
   "metadata": {},
   "outputs": [],
   "source": [
    "#Import des bibliothèques utilisées pour le chargement des données\n",
    "import pandas as pd\n",
    "import snappy\n",
    "import os\n",
    "from itertools import groupby\n",
    "import pickle\n",
    "import numpy as np"
   ]
  },
  {
   "cell_type": "code",
   "execution_count": null,
   "metadata": {},
   "outputs": [],
   "source": [
    "#Option d'affichage pour les df\n",
    "pd.options.display.max_rows = 999\n",
    "pd.options.display.max_columns = None"
   ]
  },
  {
   "attachments": {},
   "cell_type": "markdown",
   "metadata": {},
   "source": [
    "## Préparation de l'environnement"
   ]
  },
  {
   "cell_type": "code",
   "execution_count": null,
   "metadata": {},
   "outputs": [],
   "source": [
    "#Choix des colonnes pour l'étude\n",
    "col = ['time', 'unknown_IMISSIONTRAINNUMBER', \n",
    "'WC_CAR01_LCST_IWCWORKTIMEINCOMSERVICE', 'WC_CAR03_LCST_IWCWORKTIMEINCOMSERVICE', 'WC_CAR05_LCST_IWCWORKTIMEINCOMSERVICE', 'WC_CAR07_LCST_IWCWORKTIMEINCOMSERVICE',\n",
    "'WC_CAR01_LCST_IWSUTANKLEVEL', 'WC_CAR03_LCST_IWSUTANKLEVEL', 'WC_CAR05_LCST_IWSUTANKLEVEL', 'WC_CAR07_LCST_IWSUTANKLEVEL', \n",
    "'WC_CAR01_LCST_IFWTANKCONTENT', 'WC_CAR03_LCST_IFWTANKCONTENT', 'WC_CAR05_LCST_IFWTANKCONTENT', 'WC_CAR07_LCST_IFWTANKCONTENT', \n",
    "'WC_CAR01_LCST_IWWTANKCONTENT', 'WC_CAR03_LCST_IWWTANKCONTENT', 'WC_CAR05_LCST_IWWTANKCONTENT', 'WC_CAR07_LCST_IWWTANKCONTENT',   \n",
    "'WC_CAR01_LCST_IWATERTAPCNT', 'WC_CAR03_LCST_IWATERTAPCNT', 'WC_CAR05_LCST_IWATERTAPCNT',  'WC_CAR07_LCST_IWATERTAPCNT',\n",
    "'WC_CAR01_LCST_FFWTEMPTY', 'WC_CAR03_LCST_FFWTEMPTY', 'WC_CAR05_LCST_FFWTEMPTY', 'WC_CAR07_LCST_FFWTEMPTY', \n",
    "'WC_CAR01_LCST_IFLUSHCYCCNT', 'WC_CAR03_LCST_IFLUSHCYCCNT', 'WC_CAR05_LCST_IFLUSHCYCCNT', 'WC_CAR07_LCST_IFLUSHCYCCNT']"
   ]
  },
  {
   "cell_type": "code",
   "execution_count": null,
   "metadata": {},
   "outputs": [],
   "source": [
    "#Adresse du répertoire des données à modifier\n",
    "REP_DATA = 'D:/ESTACA/4A/Projet industriel/Données/Data_avril_23_04_06'"
   ]
  },
  {
   "cell_type": "code",
   "execution_count": null,
   "metadata": {},
   "outputs": [],
   "source": [
    "#Liste des répertoires de données (contenant les fichiers parquet)\n",
    "content_list = os.listdir(REP_DATA)"
   ]
  },
  {
   "cell_type": "code",
   "execution_count": null,
   "metadata": {},
   "outputs": [],
   "source": [
    "#Création d'un dictionnaire pour les noms de rames (clé = rame, valeur = liste des répertoires)\n",
    "#C'est à dire qu'on ne garde que la premiere partie du nom des fichiers\n",
    "racine_dict = {}\n",
    "for racine, group_rep in groupby(content_list, lambda nom: nom.split('_')[0]):\n",
    "    racine_dict[racine] = list(group_rep)"
   ]
  },
  {
   "attachments": {},
   "cell_type": "markdown",
   "metadata": {},
   "source": [
    "## Création des indicateurs"
   ]
  },
  {
   "cell_type": "code",
   "execution_count": null,
   "metadata": {},
   "outputs": [],
   "source": [
    "#Fonction permettant de compter le nombre de missions effectuées par la rame\n",
    "def cnt_missions(df):\n",
    "    dg = df.copy()\n",
    "    dg['nombre_mission'] = 0\n",
    "    dg['cpt_mission']=0\n",
    "    mission = 0\n",
    "    for t in range(1, len(df)):\n",
    "        if df.unknown_IMISSIONTRAINNUMBER[t]!=df.unknown_IMISSIONTRAINNUMBER[t-1]:\n",
    "            dg['nombre_mission'][t] = 1\n",
    "            mission +=1\n",
    "        dg['cpt_mission'][t]= mission\n",
    "    return dg"
   ]
  },
  {
   "cell_type": "code",
   "execution_count": null,
   "metadata": {},
   "outputs": [],
   "source": [
    "#Fonction permettant de calculer le nb de remplissages du réservoir d'eaux grises (automatique)\n",
    "#Conditions pour qu'il y ait un remplissage :\n",
    "# - le niveau du réservoir est inférieur au niveau du réservoir un pas de temps plus tard\n",
    "# - il n'y a pas encore de remplissage en cours (pour éviter de compter un nouveau remplissage tout le temps du remplissage)\n",
    "# - le niveau du réservoir est inférieur à 25%\n",
    "def is_remplissage_WSU(df):\n",
    "    for voiture in ['CAR01', 'CAR03', 'CAR05', 'CAR07']:\n",
    "        df['WC_'+voiture+'_LCST_remplissage_WSU'] = 0\n",
    "        remplissage_en_cours = 0\n",
    "        for t in range(0, len(df)-1):\n",
    "            if (df['WC_'+voiture+'_LCST_IWSUTANKLEVEL'][t] < df['WC_'+voiture+'_LCST_IWSUTANKLEVEL'][t+1]) and (remplissage_en_cours == 0) and (df['WC_'+voiture+'_LCST_IWSUTANKLEVEL'][t] <= 25):\n",
    "                df['WC_'+voiture+'_LCST_remplissage_WSU'][t] += 1\n",
    "                remplissage_en_cours = 1\n",
    "            if (df['WC_'+voiture+'_LCST_IWSUTANKLEVEL'][t]>=df['WC_'+voiture+'_LCST_IWSUTANKLEVEL'][t+1]):\n",
    "                remplissage_en_cours = 0"
   ]
  },
  {
   "cell_type": "code",
   "execution_count": null,
   "metadata": {},
   "outputs": [],
   "source": [
    "#Fonction permettant de calculer le nb de vidange du réservoir d'eaux grises (automatique)\n",
    "#Conditions pour qu'il y ait une vidange du réservoir :\n",
    "# - le niveau du réservoir est supérieur à 95%\n",
    "# - il n'y a pas de vidange en cours (pour éviter de compter une nouvelle vidange tout le temps de la vidange)\n",
    "def is_vidange_WSU(df):\n",
    "    for voiture in ['CAR01', 'CAR03', 'CAR05', 'CAR07']:\n",
    "        df['WC_'+voiture+'_LCST_vidange_WSU'] = 0\n",
    "        vid_en_cours = 0\n",
    "        for t in range(0, len(df)-1):\n",
    "            if (df['WC_'+voiture+'_LCST_IWSUTANKLEVEL'][t] >= 95) and (vid_en_cours == 0):\n",
    "                df['WC_'+voiture+'_LCST_vidange_WSU'][t] += 1\n",
    "                vid_en_cours = 1\n",
    "            if (df['WC_'+voiture+'_LCST_IWSUTANKLEVEL'][t] < 95):\n",
    "                vid_en_cours = 0"
   ]
  },
  {
   "cell_type": "code",
   "execution_count": null,
   "metadata": {},
   "outputs": [],
   "source": [
    "#Fonction permettant de calculer la vidange (en L) du reserrvoir d'eau claire (automatique)\n",
    "#L'eau claire est utilisée pour : \n",
    "# - l'eau du robinet : 0.4 L\n",
    "# - le remplissage du réservoir d'eaux grises jusqu'à 60% si son niveau passe en dessous de 25% : 0.665 L\n",
    "def consommation_FWT(df):\n",
    "    for voiture in ['CAR01', 'CAR03', 'CAR05', 'CAR07']:\n",
    "        df['WC_'+voiture+'_LCST_consommation_FWT'] = df['WC_'+voiture+'_LCST_IWATERTAPCNT']*0.4+0.665*df['WC_'+voiture+'_LCST_remplissage_WSU']"
   ]
  },
  {
   "cell_type": "code",
   "execution_count": null,
   "metadata": {},
   "outputs": [],
   "source": [
    "#Fonction permettant de calculer le remplissage (en L) du reservoir d'eaux usées (automatique)\n",
    "#Volume de la vessie humaine : 0.3 L\n",
    "#Le reservoir d'eaux usées est rempli par :\n",
    "# - les chasses d'eau tirées : 0.4 L d'eau et 0.3 L de déjections\n",
    "# - les vidanges du réservoir d'eaux grises jusqu'à 70% si son niveau de remplissage exède 95%\n",
    "def remplissage_WWT(df):\n",
    "    for voiture in ['CAR01', 'CAR03', 'CAR05', 'CAR07']:\n",
    "        df['WC_'+voiture+'_LCST_remplissage_WWT'] = df['WC_'+voiture+'_LCST_IFLUSHCYCCNT']*(0.4+0.3)+df['WC_'+voiture+'_LCST_vidange_WSU']*0.475"
   ]
  },
  {
   "cell_type": "code",
   "execution_count": null,
   "metadata": {},
   "outputs": [],
   "source": [
    "#Fonction permettant de repérer les vidanges du réservoir d'eaux usées (maintenance)\n",
    "#Conditions pour repérer une vidange du réservoir d'eaux usées :\n",
    "# - le niveau dans le réservoir diminue \n",
    "# - il n'y a pas de vidange en cours\n",
    "# - le niveau du réservoir descend en dessous de 5%\n",
    "def is_vidange_WWT(df):\n",
    "    for voiture in ['CAR01', 'CAR03', 'CAR05', 'CAR07']:\n",
    "        df['WC_'+voiture+'_LCST_vidange_WWT'] = 0\n",
    "        vidange_en_cours = 0\n",
    "        for t in range(0, len(df)-1):\n",
    "            if (df['WC_'+voiture+'_LCST_IWWTANKCONTENT'][t] > df['WC_'+voiture+'_LCST_IWWTANKCONTENT'][t+1]) and (vidange_en_cours == 0) and (df['WC_'+voiture+'_LCST_IWWTANKCONTENT'][t+1] <= 5):\n",
    "                df['WC_'+voiture+'_LCST_vidange_WWT'][t] = 1\n",
    "                vidange_en_cours = 1\n",
    "            if (df['WC_' + voiture + '_LCST_IWWTANKCONTENT'][t] <= df['WC_' + voiture + '_LCST_IWWTANKCONTENT'][t+1]):\n",
    "                vidange_en_cours = 0"
   ]
  },
  {
   "cell_type": "code",
   "execution_count": null,
   "metadata": {},
   "outputs": [],
   "source": [
    "#Fonction permettant de repérer les remplissages du réservoir d'eau claire (maintenance)\n",
    "#Conditions pour repérer les remplissages :\n",
    "# - le niveau du réservoir d'eau claire augmente\n",
    "# - il n'y a pas de remplissage en cours\n",
    "# - le niveau du réservoir atteint le maximum\n",
    "def is_remplissage_FWT(df):\n",
    "    for voiture in ['CAR01', 'CAR03', 'CAR05', 'CAR07']:\n",
    "        df['WC_'+voiture+'_LCST_remplissage_FWT'] = 0\n",
    "        rempli_en_cours = 0\n",
    "        for t in range(0, len(df)-1):\n",
    "            if (df['WC_'+voiture+'_LCST_IFWTANKCONTENT'][t]<df['WC_'+voiture+'_LCST_IFWTANKCONTENT'][t+1]) and (rempli_en_cours == 0) and (df['WC_'+voiture+'_LCST_IFWTANKCONTENT'][t+1] == 5):\n",
    "                df['WC_'+voiture+'_LCST_remplissage_FWT'][t] = 1\n",
    "                rempli_en_cours = 1\n",
    "            if (df['WC_'+voiture+'_LCST_IFWTANKCONTENT'][t]>=df['WC_'+voiture+'_LCST_IFWTANKCONTENT'][t+1]):\n",
    "                rempli_en_cours = 0"
   ]
  },
  {
   "attachments": {},
   "cell_type": "markdown",
   "metadata": {},
   "source": [
    "## Calcul des valeurs instantanées des indicateurs "
   ]
  },
  {
   "cell_type": "code",
   "execution_count": null,
   "metadata": {},
   "outputs": [],
   "source": [
    "#Création d'un dictionnaire de df en fonction des rames (clé = rame, valeur = df de données)\n",
    "#Lecture de tous les fichiers qui se rapportent à la même rame (avec traitement des erreurs s'il n'y a pas toutes les colonnes nécessaires dans le fichier)\n",
    "#Conversion du code mission en int pour que les 16 chiffres s'affichent\n",
    "#Calcul de la médaine roulante sur toutes les colonnes sauf celles avec des temps\n",
    "#Suppression des 15 premières lignes (soit l'équivalent de 15sec) pour enlever les Na créés par la médiane roulante\n",
    "#Suppression des lignes ou les codes missions sont à 0\n",
    "#Ajout des colonnes avec les indicateurs :\n",
    "# - compte des missions\n",
    "# - remplissage et vidange du réservoir d'eaux grises\n",
    "# - consommation d'eau claire\n",
    "# - remplissage et vidange du réservoir d'eaux usées\n",
    "# - remplissage du réservoir d'eau claire\n",
    "# Créeation de colonnes :\n",
    "# - jour\n",
    "# - rame\n",
    "# - consommation d'eau claire pour la rame complète\n",
    "# - remplissage du réservoir d'eax usées pour la rame complète\n",
    "dict_df = {}\n",
    "for rac, reps in racine_dict.items():\n",
    "    df_list = []\n",
    "    for rep in reps:\n",
    "        df_temp = pd.read_parquet(REP_DATA + '/' + rep + '/TT_IP.parquet')\n",
    "        try :\n",
    "            df_temp = df_temp.loc[:, col].iloc[:-1]\n",
    "        except :\n",
    "            print(\"erreur : \", rep)\n",
    "            continue\n",
    "        df_temp.unknown_IMISSIONTRAINNUMBER = df_temp.unknown_IMISSIONTRAINNUMBER.astype(np.int64)\n",
    "        df_temp = df_temp.rename(columns={\"time\":'x_time'})\n",
    "        df_temp.iloc[:,6:] = df_temp.iloc[:,6:].rolling(15).median()\n",
    "        df_temp.dropna(inplace=True)\n",
    "        df_list.append(df_temp)\n",
    "    df_concat = pd.concat(df_list, ignore_index=True)\n",
    "    df_concat.drop(df_concat.loc[df_concat['unknown_IMISSIONTRAINNUMBER']==0].index, inplace=True)\n",
    "    df_concat = df_concat.reset_index()\n",
    "    df_concat = cnt_missions(df_concat)\n",
    "    is_remplissage_WSU(df_concat)\n",
    "    is_vidange_WSU(df_concat)\n",
    "    consommation_FWT(df_concat)\n",
    "    remplissage_WWT(df_concat)\n",
    "    is_vidange_WWT(df_concat)\n",
    "    is_remplissage_FWT(df_concat)\n",
    "    df_concat['jour']=df_concat.x_time.dt.date\n",
    "    df_concat['rame']=rac\n",
    "    df_concat['conso_FWT_rame'] = df_concat.WC_CAR01_LCST_consommation_FWT + df_concat.WC_CAR03_LCST_consommation_FWT + df_concat.WC_CAR05_LCST_consommation_FWT + df_concat.WC_CAR07_LCST_consommation_FWT\n",
    "    df_concat['rempl_WWT_rame'] = df_concat.WC_CAR01_LCST_remplissage_WWT + df_concat.WC_CAR03_LCST_remplissage_WWT + df_concat.WC_CAR05_LCST_remplissage_WWT + df_concat.WC_CAR07_LCST_remplissage_WWT\n",
    "    dict_df[rac] = df_concat"
   ]
  },
  {
   "cell_type": "code",
   "execution_count": null,
   "metadata": {},
   "outputs": [],
   "source": [
    "#Création du dictionnaire de df en fonction des missions de chaque rame (clé : rame, valeur : dictionnaire(clé = mission, valeur = df de données))\n",
    "#Lecture de toutes les missions possible d'une rame\n",
    "dict_missions = {}\n",
    "for rame, datas in dict_df.items():\n",
    "    dict_mission_rame = {}\n",
    "    missions = datas.unknown_IMISSIONTRAINNUMBER.unique()\n",
    "    for mission in missions :\n",
    "        df_temp = datas.query('unknown_IMISSIONTRAINNUMBER == @mission') #@ car mission variable externe a df\n",
    "        dict_mission_rame[mission] = df_temp\n",
    "    dict_missions[rame]=dict_mission_rame"
   ]
  },
  {
   "attachments": {},
   "cell_type": "markdown",
   "metadata": {},
   "source": [
    "## Sauvegarde des données obtenues"
   ]
  },
  {
   "cell_type": "code",
   "execution_count": null,
   "metadata": {},
   "outputs": [],
   "source": [
    "#Sauvegarde du dictionnaire de df des rames en pickle\n",
    "with open('dict_df.pkl', 'wb') as file:      \n",
    "    pickle.dump(dict_df, file)"
   ]
  },
  {
   "cell_type": "code",
   "execution_count": null,
   "metadata": {},
   "outputs": [],
   "source": [
    "#Sauvegarde du dictionnaire des missions en fonction des rames dans un pickle\n",
    "with open('dict_rame_missions.pkl', 'wb') as file:      \n",
    "    pickle.dump(dict_missions, file)"
   ]
  },
  {
   "cell_type": "code",
   "execution_count": null,
   "metadata": {},
   "outputs": [],
   "source": [
    "#Sauvegarde du df de toutes les donnees en pickle\n",
    "df_complet = pd.concat(dict_df.values())\n",
    "with open('df_complet.pkl', 'wb') as file:      \n",
    "    pickle.dump(df_complet, file)"
   ]
  }
 ],
 "metadata": {
  "kernelspec": {
   "display_name": "base",
   "language": "python",
   "name": "python3"
  },
  "language_info": {
   "codemirror_mode": {
    "name": "ipython",
    "version": 3
   },
   "file_extension": ".py",
   "mimetype": "text/x-python",
   "name": "python",
   "nbconvert_exporter": "python",
   "pygments_lexer": "ipython3",
   "version": "3.9.12"
  },
  "orig_nbformat": 4,
  "vscode": {
   "interpreter": {
    "hash": "02501473eb041a161c61fd3ca20e3fda48ac334b31f985a5bd6bd7f891fd4d4d"
   }
  }
 },
 "nbformat": 4,
 "nbformat_minor": 2
}
